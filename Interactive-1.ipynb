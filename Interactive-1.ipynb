{
 "cells": [
  {
   "cell_type": "markdown",
   "metadata": {
    "isInteractiveWindowMessageCell": true
   },
   "source": [
    "Connected to venv (Python 3.11.5)"
   ]
  },
  {
   "cell_type": "code",
   "execution_count": 102,
   "metadata": {},
   "outputs": [],
   "source": [
    "import os"
   ]
  },
  {
   "cell_type": "code",
   "execution_count": 103,
   "metadata": {},
   "outputs": [],
   "source": [
    "train_path = \"./rock_paper_scissors/train/\"\n",
    "val_path   = \"./rock_paper_scissors/val/\""
   ]
  },
  {
   "cell_type": "code",
   "execution_count": 104,
   "metadata": {},
   "outputs": [],
   "source": [
    "def getFileNames(path):\n",
    "    # Get all the file names from the path that end with .jpg\n",
    "    file_names = [f for f in os.listdir(path) if f.endswith(\".jpg\")]\n",
    "    return file_names\n",
    "\n",
    "def getLabels(path):\n",
    "    labels = [f for f in os.listdir(path) if f.endswith(\".txt\")]\n",
    "    return labels"
   ]
  },
  {
   "cell_type": "code",
   "execution_count": 105,
   "metadata": {},
   "outputs": [],
   "source": [
    "training_file_names = getFileNames(train_path)\n",
    "training_file_labels = getLabels(train_path)\n",
    "validation_file_names = getFileNames(val_path)\n",
    "validation_file_labels = getLabels(val_path)"
   ]
  },
  {
   "cell_type": "code",
   "execution_count": 106,
   "metadata": {},
   "outputs": [],
   "source": [
    "types = [\"rock\", \"paper\", \"scissors\"]"
   ]
  },
  {
   "cell_type": "code",
   "execution_count": 185,
   "metadata": {},
   "outputs": [],
   "source": [
    "def readLabelFile(path):\n",
    "    with open(path) as f:\n",
    "        content = f.readlines()\n",
    "    content = [x.strip() for x in content]\n",
    "    split = content[0].split(\" \")\n",
    "    t = int(split[0])\n",
    "    \n",
    "    x = float(split[1])\n",
    "    y = float(split[2])\n",
    "    w = float(split[3])\n",
    "    h = float(split[4])\n",
    "    \n",
    "    if t == 0:\n",
    "        return np.array([1, 0, 0, x, y, w, h])\n",
    "    elif t == 1:\n",
    "        return np.array([0, 1, 0, x, y, w, h])\n",
    "    elif t == 2:\n",
    "        return np.array([0, 0, 1, x, y, w, h])\n",
    "    \n",
    "    "
   ]
  },
  {
   "cell_type": "code",
   "execution_count": 186,
   "metadata": {},
   "outputs": [],
   "source": [
    "import tensorflow as tf\n",
    "import numpy as np\n",
    "import matplotlib.pyplot as plt\n",
    "import matplotlib.image as mpimg\n",
    "from PIL import Image"
   ]
  },
  {
   "cell_type": "code",
   "execution_count": 187,
   "metadata": {},
   "outputs": [],
   "source": [
    "images = np.array([plt.imread(train_path + training_file_names[0])])\n",
    "images = images / 255\n"
   ]
  },
  {
   "cell_type": "code",
   "execution_count": 188,
   "metadata": {},
   "outputs": [],
   "source": [
    "labels = np.array([readLabelFile(train_path + training_file_labels[0])])"
   ]
  },
  {
   "cell_type": "code",
   "execution_count": null,
   "metadata": {},
   "outputs": [],
   "source": [
    "model = tf.keras.models.Sequential([\n",
    "    tf.keras.layers.Conv2D(32, (3,3), activation='relu', input_shape=(480, 640, 3)),\n",
    "    tf.keras.layers.MaxPooling2D(2, 2),\n",
    "    tf.keras.layers.Conv2D(16, (3,3), activation='relu'),\n",
    "    tf.keras.layers.MaxPooling2D(2,2),\n",
    "    tf.keras.layers.Flatten(),  \n",
    "    tf.keras.layers.Dense(7, activation='sigmoid'),\n",
    "])\n"
   ]
  },
  {
   "cell_type": "code",
   "execution_count": null,
   "metadata": {},
   "outputs": [],
   "source": [
    "model.compile(optimizer=\"adam\", loss=\"mse\")"
   ]
  },
  {
   "cell_type": "code",
   "execution_count": null,
   "metadata": {},
   "outputs": [
    {
     "data": {
      "text/plain": [
       "(480, 640, 3)"
      ]
     },
     "execution_count": 191,
     "metadata": {},
     "output_type": "execute_result"
    }
   ],
   "source": [
    "images[0].shape"
   ]
  },
  {
   "cell_type": "code",
   "execution_count": null,
   "metadata": {},
   "outputs": [],
   "source": [
    "# add a dimension to the labels\n",
    "print(images, labels)"
   ]
  },
  {
   "cell_type": "code",
   "execution_count": 196,
   "metadata": {},
   "outputs": [
    {
     "name": "stdout",
     "output_type": "stream",
     "text": [
      "Epoch 1/100\n"
     ]
    },
    {
     "name": "stdout",
     "output_type": "stream",
     "text": [
      "1/1 [==============================] - 0s 186ms/step - loss: 0.0014\n",
      "Epoch 2/100\n",
      "1/1 [==============================] - 0s 184ms/step - loss: 9.0668e-04\n",
      "Epoch 3/100\n",
      "1/1 [==============================] - 0s 167ms/step - loss: 4.6176e-04\n",
      "Epoch 4/100\n",
      "1/1 [==============================] - 0s 174ms/step - loss: 8.3580e-04\n",
      "Epoch 5/100\n",
      "1/1 [==============================] - 0s 181ms/step - loss: 6.8398e-04\n",
      "Epoch 6/100\n",
      "1/1 [==============================] - 0s 181ms/step - loss: 2.0619e-04\n",
      "Epoch 7/100\n",
      "1/1 [==============================] - 0s 168ms/step - loss: 4.2415e-04\n",
      "Epoch 8/100\n",
      "1/1 [==============================] - 0s 163ms/step - loss: 5.5778e-04\n",
      "Epoch 9/100\n",
      "1/1 [==============================] - 0s 167ms/step - loss: 2.5578e-04\n",
      "Epoch 10/100\n",
      "1/1 [==============================] - 0s 170ms/step - loss: 3.4391e-04\n",
      "Epoch 11/100\n",
      "1/1 [==============================] - 0s 172ms/step - loss: 5.8647e-04\n",
      "Epoch 12/100\n",
      "1/1 [==============================] - 0s 169ms/step - loss: 3.8694e-04\n",
      "Epoch 13/100\n",
      "1/1 [==============================] - 0s 171ms/step - loss: 3.5956e-04\n",
      "Epoch 14/100\n",
      "1/1 [==============================] - 0s 165ms/step - loss: 5.2054e-04\n",
      "Epoch 15/100\n",
      "1/1 [==============================] - 0s 166ms/step - loss: 3.6079e-04\n",
      "Epoch 16/100\n",
      "1/1 [==============================] - 0s 167ms/step - loss: 2.2807e-04\n",
      "Epoch 17/100\n",
      "1/1 [==============================] - 0s 162ms/step - loss: 3.1416e-04\n",
      "Epoch 18/100\n",
      "1/1 [==============================] - 0s 165ms/step - loss: 1.9364e-04\n",
      "Epoch 19/100\n",
      "1/1 [==============================] - 0s 168ms/step - loss: 6.8349e-05\n",
      "Epoch 20/100\n",
      "1/1 [==============================] - 0s 164ms/step - loss: 1.3900e-04\n",
      "Epoch 21/100\n",
      "1/1 [==============================] - 0s 169ms/step - loss: 9.0353e-05\n",
      "Epoch 22/100\n",
      "1/1 [==============================] - 0s 171ms/step - loss: 1.5296e-05\n",
      "Epoch 23/100\n",
      "1/1 [==============================] - 0s 173ms/step - loss: 9.4250e-05\n",
      "Epoch 24/100\n",
      "1/1 [==============================] - 0s 172ms/step - loss: 8.6014e-05\n",
      "Epoch 25/100\n",
      "1/1 [==============================] - 0s 173ms/step - loss: 3.9708e-05\n",
      "Epoch 26/100\n",
      "1/1 [==============================] - 0s 172ms/step - loss: 1.0079e-04\n",
      "Epoch 27/100\n",
      "1/1 [==============================] - 0s 169ms/step - loss: 9.2864e-05\n",
      "Epoch 28/100\n",
      "1/1 [==============================] - 0s 171ms/step - loss: 5.0147e-05\n",
      "Epoch 29/100\n",
      "1/1 [==============================] - 0s 167ms/step - loss: 8.7132e-05\n",
      "Epoch 30/100\n",
      "1/1 [==============================] - 0s 165ms/step - loss: 7.1956e-05\n",
      "Epoch 31/100\n",
      "1/1 [==============================] - 0s 169ms/step - loss: 3.7097e-05\n",
      "Epoch 32/100\n",
      "1/1 [==============================] - 0s 167ms/step - loss: 6.3146e-05\n",
      "Epoch 33/100\n",
      "1/1 [==============================] - 0s 166ms/step - loss: 4.8560e-05\n",
      "Epoch 34/100\n",
      "1/1 [==============================] - 0s 169ms/step - loss: 2.6147e-05\n",
      "Epoch 35/100\n",
      "1/1 [==============================] - 0s 174ms/step - loss: 4.7434e-05\n",
      "Epoch 36/100\n",
      "1/1 [==============================] - 0s 178ms/step - loss: 3.3087e-05\n",
      "Epoch 37/100\n",
      "1/1 [==============================] - 0s 185ms/step - loss: 1.9693e-05\n",
      "Epoch 38/100\n",
      "1/1 [==============================] - 0s 180ms/step - loss: 3.4367e-05\n",
      "Epoch 39/100\n",
      "1/1 [==============================] - 0s 169ms/step - loss: 1.9313e-05\n",
      "Epoch 40/100\n",
      "1/1 [==============================] - 0s 172ms/step - loss: 1.2209e-05\n",
      "Epoch 41/100\n",
      "1/1 [==============================] - 0s 170ms/step - loss: 2.1975e-05\n",
      "Epoch 42/100\n",
      "1/1 [==============================] - 0s 162ms/step - loss: 8.7175e-06\n",
      "Epoch 43/100\n",
      "1/1 [==============================] - 0s 167ms/step - loss: 8.3121e-06\n",
      "Epoch 44/100\n",
      "1/1 [==============================] - 0s 163ms/step - loss: 1.4820e-05\n",
      "Epoch 45/100\n",
      "1/1 [==============================] - 0s 170ms/step - loss: 5.1933e-06\n",
      "Epoch 46/100\n",
      "1/1 [==============================] - 0s 171ms/step - loss: 9.0465e-06\n",
      "Epoch 47/100\n",
      "1/1 [==============================] - 0s 174ms/step - loss: 1.2009e-05\n",
      "Epoch 48/100\n",
      "1/1 [==============================] - 0s 173ms/step - loss: 5.2749e-06\n",
      "Epoch 49/100\n",
      "1/1 [==============================] - 0s 177ms/step - loss: 1.0191e-05\n",
      "Epoch 50/100\n",
      "1/1 [==============================] - 0s 173ms/step - loss: 9.4364e-06\n",
      "Epoch 51/100\n",
      "1/1 [==============================] - 0s 175ms/step - loss: 5.2736e-06\n",
      "Epoch 52/100\n",
      "1/1 [==============================] - 0s 174ms/step - loss: 9.2618e-06\n",
      "Epoch 53/100\n",
      "1/1 [==============================] - 0s 175ms/step - loss: 6.1289e-06\n",
      "Epoch 54/100\n",
      "1/1 [==============================] - 0s 171ms/step - loss: 4.4172e-06\n",
      "Epoch 55/100\n",
      "1/1 [==============================] - 0s 171ms/step - loss: 6.6029e-06\n",
      "Epoch 56/100\n",
      "1/1 [==============================] - 0s 164ms/step - loss: 2.8868e-06\n",
      "Epoch 57/100\n",
      "1/1 [==============================] - 0s 164ms/step - loss: 3.1294e-06\n",
      "Epoch 58/100\n",
      "1/1 [==============================] - 0s 162ms/step - loss: 3.6147e-06\n",
      "Epoch 59/100\n",
      "1/1 [==============================] - 0s 164ms/step - loss: 9.3735e-07\n",
      "Epoch 60/100\n",
      "1/1 [==============================] - 0s 163ms/step - loss: 2.4216e-06\n",
      "Epoch 61/100\n",
      "1/1 [==============================] - 0s 160ms/step - loss: 1.8501e-06\n",
      "Epoch 62/100\n",
      "1/1 [==============================] - 0s 167ms/step - loss: 9.0121e-07\n",
      "Epoch 63/100\n",
      "1/1 [==============================] - 0s 172ms/step - loss: 2.4319e-06\n",
      "Epoch 64/100\n",
      "1/1 [==============================] - 0s 169ms/step - loss: 1.3083e-06\n",
      "Epoch 65/100\n",
      "1/1 [==============================] - 0s 172ms/step - loss: 1.5207e-06\n",
      "Epoch 66/100\n",
      "1/1 [==============================] - 0s 175ms/step - loss: 2.0547e-06\n",
      "Epoch 67/100\n",
      "1/1 [==============================] - 0s 171ms/step - loss: 8.9862e-07\n",
      "Epoch 68/100\n",
      "1/1 [==============================] - 0s 170ms/step - loss: 1.4833e-06\n",
      "Epoch 69/100\n",
      "1/1 [==============================] - 0s 171ms/step - loss: 1.0865e-06\n",
      "Epoch 70/100\n",
      "1/1 [==============================] - 0s 169ms/step - loss: 5.5091e-07\n",
      "Epoch 71/100\n",
      "1/1 [==============================] - 0s 172ms/step - loss: 1.0841e-06\n",
      "Epoch 72/100\n",
      "1/1 [==============================] - 0s 168ms/step - loss: 4.6389e-07\n",
      "Epoch 73/100\n",
      "1/1 [==============================] - 0s 167ms/step - loss: 6.5195e-07\n",
      "Epoch 74/100\n",
      "1/1 [==============================] - 0s 189ms/step - loss: 8.1269e-07\n",
      "Epoch 75/100\n",
      "1/1 [==============================] - 0s 167ms/step - loss: 4.0100e-07\n",
      "Epoch 76/100\n",
      "1/1 [==============================] - 0s 163ms/step - loss: 7.6897e-07\n",
      "Epoch 77/100\n",
      "1/1 [==============================] - 0s 163ms/step - loss: 4.8719e-07\n",
      "Epoch 78/100\n",
      "1/1 [==============================] - 0s 162ms/step - loss: 3.8073e-07\n",
      "Epoch 79/100\n",
      "1/1 [==============================] - 0s 165ms/step - loss: 5.0112e-07\n",
      "Epoch 80/100\n",
      "1/1 [==============================] - 0s 169ms/step - loss: 1.4150e-07\n",
      "Epoch 81/100\n",
      "1/1 [==============================] - 0s 166ms/step - loss: 2.7716e-07\n",
      "Epoch 82/100\n",
      "1/1 [==============================] - 0s 174ms/step - loss: 1.7032e-07\n",
      "Epoch 83/100\n",
      "1/1 [==============================] - 0s 170ms/step - loss: 7.3783e-08\n",
      "Epoch 84/100\n",
      "1/1 [==============================] - 0s 170ms/step - loss: 2.3472e-07\n",
      "Epoch 85/100\n",
      "1/1 [==============================] - 0s 170ms/step - loss: 8.6208e-08\n",
      "Epoch 86/100\n",
      "1/1 [==============================] - 0s 171ms/step - loss: 2.0199e-07\n",
      "Epoch 87/100\n",
      "1/1 [==============================] - 0s 173ms/step - loss: 2.0227e-07\n",
      "Epoch 88/100\n",
      "1/1 [==============================] - 0s 173ms/step - loss: 1.3734e-07\n",
      "Epoch 89/100\n",
      "1/1 [==============================] - 0s 169ms/step - loss: 2.3250e-07\n",
      "Epoch 90/100\n",
      "1/1 [==============================] - 0s 163ms/step - loss: 1.2006e-07\n",
      "Epoch 91/100\n",
      "1/1 [==============================] - 0s 166ms/step - loss: 1.5006e-07\n",
      "Epoch 92/100\n",
      "1/1 [==============================] - 0s 172ms/step - loss: 1.2456e-07\n",
      "Epoch 93/100\n",
      "1/1 [==============================] - 0s 167ms/step - loss: 5.7644e-08\n",
      "Epoch 94/100\n",
      "1/1 [==============================] - 0s 160ms/step - loss: 1.0006e-07\n",
      "Epoch 95/100\n",
      "1/1 [==============================] - 0s 162ms/step - loss: 2.8378e-08\n",
      "Epoch 96/100\n",
      "1/1 [==============================] - 0s 162ms/step - loss: 5.2031e-08\n",
      "Epoch 97/100\n",
      "1/1 [==============================] - 0s 166ms/step - loss: 4.4352e-08\n",
      "Epoch 98/100\n",
      "1/1 [==============================] - 0s 170ms/step - loss: 1.9770e-08\n",
      "Epoch 99/100\n",
      "1/1 [==============================] - 0s 172ms/step - loss: 5.5904e-08\n",
      "Epoch 100/100\n",
      "1/1 [==============================] - 0s 171ms/step - loss: 2.0960e-08\n"
     ]
    },
    {
     "data": {
      "text/plain": [
       "<keras.src.callbacks.History at 0x2b3801f3050>"
      ]
     },
     "execution_count": 196,
     "metadata": {},
     "output_type": "execute_result"
    }
   ],
   "source": [
    "model.fit(images, labels, epochs=100)"
   ]
  },
  {
   "cell_type": "code",
   "execution_count": 197,
   "metadata": {},
   "outputs": [
    {
     "name": "stdout",
     "output_type": "stream",
     "text": [
      "1/1 [==============================] - 0s 57ms/step\n"
     ]
    },
    {
     "data": {
      "text/plain": [
       "array([[1.3171020e-04, 9.9949855e-01, 6.2797684e-05, 4.8667970e-01,\n",
       "        6.2595475e-01, 3.2981879e-01, 3.2719821e-01]], dtype=float32)"
      ]
     },
     "execution_count": 197,
     "metadata": {},
     "output_type": "execute_result"
    }
   ],
   "source": [
    "model.predict(images)"
   ]
  },
  {
   "cell_type": "code",
   "execution_count": 198,
   "metadata": {},
   "outputs": [
    {
     "name": "stdout",
     "output_type": "stream",
     "text": [
      "1/1 [==============================] - 0s 57ms/step\n"
     ]
    },
    {
     "data": {
      "text/plain": [
       "array([[-0.03798455,  0.87627155,  0.03496788,  0.33867007,  0.4784958 ,\n",
       "         0.24757263,  0.24404348]], dtype=float32)"
      ]
     },
     "execution_count": 198,
     "metadata": {},
     "output_type": "execute_result"
    }
   ],
   "source": [
    "# predict on validation set\n",
    "validation_images = np.array([plt.imread(val_path + validation_file_names[0])])\n",
    "validation_images = validation_images / 255\n",
    "validation_labels = np.array([readLabelFile(val_path + validation_file_labels[0])])\n",
    "model.predict(validation_images)\n"
   ]
  },
  {
   "cell_type": "code",
   "execution_count": 203,
   "metadata": {},
   "outputs": [
    {
     "name": "stdout",
     "output_type": "stream",
     "text": [
      "1/1 [==============================] - 0s 42ms/step\n"
     ]
    },
    {
     "data": {
      "text/plain": [
       "array([-0.03798455,  0.87627155,  0.03496788,  0.33867007,  0.4784958 ,\n",
       "        0.24757263,  0.24404348], dtype=float32)"
      ]
     },
     "execution_count": 203,
     "metadata": {},
     "output_type": "execute_result"
    }
   ],
   "source": [
    "# get the predicted bounding box\n",
    "prediction = model.predict(validation_images)\n",
    "prediction = prediction[0]\n",
    "prediction"
   ]
  },
  {
   "cell_type": "code",
   "execution_count": 204,
   "metadata": {},
   "outputs": [],
   "source": [
    "# draw the predicted bounding box\n",
    "from PIL import ImageDraw\n",
    "\n",
    "img = Image.open(val_path + validation_file_names[0])\n",
    "\n",
    "draw = ImageDraw.Draw(img)\n",
    "draw.rectangle([(prediction[3], prediction[4]), (prediction[3] + prediction[5], prediction[4] + prediction[6])], outline=\"red\")\n",
    "img.show()"
   ]
  },
  {
   "cell_type": "code",
   "execution_count": null,
   "metadata": {},
   "outputs": [],
   "source": [
    "# draw the actual bounding box on webcam\n"
   ]
  }
 ],
 "metadata": {
  "kernelspec": {
   "display_name": "venv",
   "language": "python",
   "name": "python3"
  },
  "language_info": {
   "codemirror_mode": {
    "name": "ipython",
    "version": 3
   },
   "file_extension": ".py",
   "mimetype": "text/x-python",
   "name": "python",
   "nbconvert_exporter": "python",
   "pygments_lexer": "ipython3",
   "version": "3.11.5"
  }
 },
 "nbformat": 4,
 "nbformat_minor": 2
}
